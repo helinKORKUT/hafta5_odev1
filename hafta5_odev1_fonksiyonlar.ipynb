{
 "cells": [
  {
   "cell_type": "code",
   "execution_count": null,
   "id": "d6b55997",
   "metadata": {},
   "outputs": [],
   "source": [
    "# Kullanıcıdan pi değeri ve yarıçap bilgisi alarak dairenin alanını hesaplayan bir fonksiyon oluşturulur."
   ]
  },
  {
   "cell_type": "code",
   "execution_count": 2,
   "id": "2a1c8745",
   "metadata": {},
   "outputs": [],
   "source": [
    "def alan_hesabı():\n",
    "    pi = float(input(\" Pi Değerini Giriniz: \"))\n",
    "    yaricap = float(input(\" Yarıçap Değerini Giriniz: \"))\n",
    "    alan = (pi) * (yaricap**2)\n",
    "    return alan"
   ]
  },
  {
   "cell_type": "code",
   "execution_count": 3,
   "id": "151cd2e5",
   "metadata": {},
   "outputs": [
    {
     "name": "stdout",
     "output_type": "stream",
     "text": [
      " Pi Değerini Giriniz: 3.14\n",
      " Yarıçap Değerini Giriniz: 4\n"
     ]
    },
    {
     "data": {
      "text/plain": [
       "50.24"
      ]
     },
     "execution_count": 3,
     "metadata": {},
     "output_type": "execute_result"
    }
   ],
   "source": [
    "alan_hesabı()"
   ]
  },
  {
   "cell_type": "code",
   "execution_count": null,
   "id": "1dc9de2f",
   "metadata": {},
   "outputs": [],
   "source": [
    "#Faktöriyel adında fonksiyon oluşturulur. Döngü kullanarak parametre olarak girilen sayının faktöriyeli hesaplanır. \n",
    "#Format metodunu kullanılarak ekrana yazdırılır."
   ]
  },
  {
   "cell_type": "code",
   "execution_count": 10,
   "id": "d6cef908",
   "metadata": {},
   "outputs": [
    {
     "name": "stdout",
     "output_type": "stream",
     "text": [
      "3 sayısının faktöriyeli: 6\n",
      "4 sayısının faktöriyeli: 24\n",
      "5 sayısının faktöriyeli: 120\n"
     ]
    }
   ],
   "source": [
    "def faktoriyel( sayi ) :\n",
    "    if sayi == 0:\n",
    "        return 1\n",
    "    else:\n",
    "        sonuc = sayi * faktoriyel( sayi - 1 )\n",
    "        return sonuc\n",
    "\n",
    "print(\"3 sayısının faktöriyeli: {}\".format(faktoriyel(3)))\n",
    "print(\"4 sayısının faktöriyeli: {}\".format(faktoriyel(4)))\n",
    "print(\"5 sayısının faktöriyeli: {}\".format(faktoriyel(5)))"
   ]
  },
  {
   "cell_type": "code",
   "execution_count": null,
   "id": "9b087793",
   "metadata": {},
   "outputs": [],
   "source": [
    "#Kişinin fonksiyona doğum yılını vererek kaç yaşında olduğunu hesaplayan bir fonksiyon oluşturun. "
   ]
  },
  {
   "cell_type": "code",
   "execution_count": 29,
   "id": "f7571bfa",
   "metadata": {},
   "outputs": [
    {
     "name": "stdout",
     "output_type": "stream",
     "text": [
      "Doğum yılı: 1994, Kişi şu anda 30 yaşında.\n"
     ]
    }
   ],
   "source": [
    "def yas_hesapla(dogum_yili) :\n",
    "    su_anin_yili = 2024\n",
    "    yas = su_anin_yili - dogum_yili\n",
    "    return yas\n",
    "\n",
    "dogum_yili = 1994\n",
    "yas = yas_hesapla(dogum_yili)\n",
    "print(\"Doğum yılı: {}, Kişi şu anda {} yaşında.\".format(dogum_yili, yas))"
   ]
  },
  {
   "cell_type": "code",
   "execution_count": null,
   "id": "d5ba8417",
   "metadata": {},
   "outputs": [],
   "source": [
    "#Doğum yılı ve isim bilgisi verilen fonksiyon kişinin emekli olup olmadığını söylesin.\n",
    "#(Kişi 65 yaşında ise emekli olur.) Burada yaş hesabını yukarıdaki örnekteki fonksiyonu kullanarak yapsın.\n",
    "#(Yani fonksiyon içinde fonksiyon kullanmanızı istiyorum :)) Kişi 65 yaşında ya da daha fazlaysa\n",
    "#\"Emekli oldunuz\" yanıtını, 65 yaşından küçükse emekliliğine kaç yıl kaldığını da hesaplayarak \n",
    "#\"(isim) emekliliğine (yıl) kaldı.\" yanıtını versin."
   ]
  },
  {
   "cell_type": "code",
   "execution_count": 34,
   "id": "6d8e524b",
   "metadata": {},
   "outputs": [
    {
     "name": "stdout",
     "output_type": "stream",
     "text": [
      "Pakize, emekliliğine 42 yıl kaldı.\n"
     ]
    }
   ],
   "source": [
    "dogum_yili = 2001\n",
    "isim = \"Pakize\"\n",
    "\n",
    "def yas_hesapla(dogum_yili):\n",
    "    su_anin_yili = 2024\n",
    "    yas = su_anin_yili - dogum_yili\n",
    "    return yas\n",
    "\n",
    "yas = yas_hesapla(dogum_yili)\n",
    "kalan_emeklilik = 65 - yas\n",
    "\n",
    "def emeklilik(isim, kalan_emeklilik):\n",
    "    if yas >= 65:\n",
    "        print(\"Emekli Oldunuz.\")\n",
    "    else:\n",
    "        print(\"{}, emekliliğine {} yıl kaldı.\".format(isim, kalan_emeklilik))\n",
    "\n",
    "emeklilik(isim, kalan_emeklilik)"
   ]
  }
 ],
 "metadata": {
  "kernelspec": {
   "display_name": "Python 3 (ipykernel)",
   "language": "python",
   "name": "python3"
  },
  "language_info": {
   "codemirror_mode": {
    "name": "ipython",
    "version": 3
   },
   "file_extension": ".py",
   "mimetype": "text/x-python",
   "name": "python",
   "nbconvert_exporter": "python",
   "pygments_lexer": "ipython3",
   "version": "3.9.13"
  }
 },
 "nbformat": 4,
 "nbformat_minor": 5
}
